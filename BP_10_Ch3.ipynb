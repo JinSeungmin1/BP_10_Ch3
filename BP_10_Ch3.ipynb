{
  "nbformat": 4,
  "nbformat_minor": 0,
  "metadata": {
    "colab": {
      "provenance": [],
      "authorship_tag": "ABX9TyNcvfNo2fNuapKYJzzT3CST",
      "include_colab_link": true
    },
    "kernelspec": {
      "name": "python3",
      "display_name": "Python 3"
    },
    "language_info": {
      "name": "python"
    }
  },
  "cells": [
    {
      "cell_type": "markdown",
      "metadata": {
        "id": "view-in-github",
        "colab_type": "text"
      },
      "source": [
        "<a href=\"https://colab.research.google.com/github/JinSeungmin1/BP_10_Ch3/blob/main/BP_10_Ch3.ipynb\" target=\"_parent\"><img src=\"https://colab.research.google.com/assets/colab-badge.svg\" alt=\"Open In Colab\"/></a>"
      ]
    },
    {
      "cell_type": "code",
      "execution_count": 2,
      "metadata": {
        "colab": {
          "base_uri": "https://localhost:8080/"
        },
        "id": "-mvnMQCfNpjO",
        "outputId": "0dc7e1bc-1505-4e36-a87d-d0c94b9b5ad6"
      },
      "outputs": [
        {
          "output_type": "stream",
          "name": "stdout",
          "text": [
            "첫 번째 정수를 입력해주세요 : 10\n",
            "두 번째 정수를 입력해주세요 : 20\n",
            "두 수의 합 :  30\n",
            "두 수의 차 :  -10\n",
            "두 수의 곱 :  200\n",
            "두 수의 평균 :  15\n",
            "큰 수 :  20\n",
            "작은 수 :  10\n"
          ]
        }
      ],
      "source": [
        "a = int(input(\"첫 번째 정수를 입력해주세요 : \"))\n",
        "b = int(input(\"두 번째 정수를 입력해주세요 : \"))\n",
        "\n",
        "print(\"두 수의 합 : \", a+b)\n",
        "print(\"두 수의 차 : \", a-b)\n",
        "print(\"두 수의 곱 : \", a*b)\n",
        "print(\"두 수의 평균 : \", (a+b)//2)\n",
        "print(\"큰 수 : \", max(a, b))\n",
        "print(\"작은 수 : \", min(a, b))"
      ]
    },
    {
      "cell_type": "code",
      "source": [
        "r = int(input(\"반지름을 입력해주세요 : \"))\n",
        "h = int(input(\"높이를 입력해주세요 : \"))\n",
        "vol = 3.141592\n",
        "v = vol*(r*r)*h\n",
        "print(\"원기둥의 부피 : \", v) "
      ],
      "metadata": {
        "colab": {
          "base_uri": "https://localhost:8080/"
        },
        "id": "5PV5ZzNkOSmq",
        "outputId": "4d4bd37d-4d23-4c00-f4a4-e20763a9781b"
      },
      "execution_count": 3,
      "outputs": [
        {
          "output_type": "stream",
          "name": "stdout",
          "text": [
            "반지름을 입력해주세요 : 10\n",
            "높이를 입력해주세요 : 100\n",
            "원기둥의 부피 :  31415.92\n"
          ]
        }
      ]
    },
    {
      "cell_type": "code",
      "source": [
        "n = int(input(\"정수를 입력해주세요 : \"))\n",
        "sum = 0\n",
        "sum += n % 10\n",
        "n //= 10\n",
        "sum += n % 10\n",
        "n //= 10\n",
        "sum += n % 10\n",
        "n //= 10\n",
        "sum += n % 10\n",
        "n //= 10\n",
        "print(\"자리수의 합 : \", sum)"
      ],
      "metadata": {
        "colab": {
          "base_uri": "https://localhost:8080/"
        },
        "id": "2mRo2wxZOj0s",
        "outputId": "7b13a86a-0f6d-4c2f-f380-a0df7c7b1b5b"
      },
      "execution_count": 4,
      "outputs": [
        {
          "output_type": "stream",
          "name": "stdout",
          "text": [
            "정수를 입력해주세요 : 1234\n",
            "자리수의 합 :  10\n"
          ]
        }
      ]
    },
    {
      "cell_type": "code",
      "source": [
        "x1 = int(input(\"x1: \"))\n",
        "y1 = int(input(\"y1: \"))\n",
        "x2 = int(input(\"x2: \"))\n",
        "y2 = int(input(\"y2: \"))\n",
        " \n",
        "print(\"두 점 사이의 거리=\", ((x1-x2)**2 + (y1-y2)**2)**0.5)"
      ],
      "metadata": {
        "colab": {
          "base_uri": "https://localhost:8080/"
        },
        "id": "j6KsraXpOty8",
        "outputId": "13e00080-00bb-474a-97d6-df53f9e7f5d9"
      },
      "execution_count": 5,
      "outputs": [
        {
          "output_type": "stream",
          "name": "stdout",
          "text": [
            "x1: 0\n",
            "y1: 0\n",
            "x2: 100\n",
            "y2: 100\n",
            "두 점 사이의 거리= 141.4213562373095\n"
          ]
        }
      ]
    },
    {
      "cell_type": "code",
      "source": [
        "import time\n",
        " \n",
        "fseconds = time.time() // 60\n",
        "minute = fseconds % 60\n",
        "hour = fseconds //60 %24\n",
        "\n",
        "print(\"현재 시간(영국 그리니치 시각):\", int(hour), \"시\", int(minute), \"분\")"
      ],
      "metadata": {
        "colab": {
          "base_uri": "https://localhost:8080/"
        },
        "id": "sUCiITLUPJk-",
        "outputId": "29d86766-ed6b-42b6-bcdc-4cc41ca2d47f"
      },
      "execution_count": 6,
      "outputs": [
        {
          "output_type": "stream",
          "name": "stdout",
          "text": [
            "현재 시간(영국 그리니치 시각): 10 시 1 분\n"
          ]
        }
      ]
    },
    {
      "cell_type": "code",
      "source": [
        "weight = int(input(\"물체의 무게를 입력하시오(킬로그램): \"))\n",
        "speed = int(input(\"물체의 속도를 입력하시오(미터/초): \"))\n",
        " \n",
        "print(\"물체는\", 1/2 * weight* speed**2, \"(줄)의 에너지를 가지고 있다.\")"
      ],
      "metadata": {
        "colab": {
          "base_uri": "https://localhost:8080/"
        },
        "id": "BDh2tUO9PPNx",
        "outputId": "cc3fe8b5-36cc-47af-e664-341016727801"
      },
      "execution_count": 7,
      "outputs": [
        {
          "output_type": "stream",
          "name": "stdout",
          "text": [
            "물체의 무게를 입력하시오(킬로그램): 10\n",
            "물체의 속도를 입력하시오(미터/초): 100\n",
            "물체는 50000.0 (줄)의 에너지를 가지고 있다.\n"
          ]
        }
      ]
    }
  ]
}